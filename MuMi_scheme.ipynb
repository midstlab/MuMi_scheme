{
 "cells": [
  {
   "cell_type": "code",
   "execution_count": null,
   "id": "03e2fd14",
   "metadata": {},
   "outputs": [],
   "source": [
    "from prody import *\n",
    "import numpy as np\n",
    "from os.path import basename\n",
    "import fnmatch\n",
    "import os\n",
    "import math"
   ]
  },
  {
   "cell_type": "markdown",
   "id": "811fb7c5",
   "metadata": {
    "tags": []
   },
   "source": [
    "## Let's mutate the PDB structure\n"
   ]
  },
  {
   "cell_type": "markdown",
   "id": "b845bf13-75cc-40a6-9d5a-623f3eea7cdf",
   "metadata": {
    "tags": []
   },
   "source": [
    "### First parse the pdb file and make a list of desired mutations\n"
   ]
  },
  {
   "cell_type": "code",
   "execution_count": null,
   "id": "720a9a5f",
   "metadata": {},
   "outputs": [],
   "source": [
    "pdb_name = \"1fcc.pdb\"\n",
    "mutation_list = [\"ALA\",\"ARG\",\"ASN\",\"ASP\",\"CYS\",\"GLU\",\"GLN\",\"GLY\",\"HIS\",\"ILE\",\n",
    "                 \"LEU\",\"LYS\",\"MET\",\"PHE\",\"PRO\",\"SER\",\"THR\",\"TRP\",\"TYR\",\"VAL\"]"
   ]
  },
  {
   "cell_type": "markdown",
   "id": "2781c651-fd15-4199-95df-bf24d4ac0e89",
   "metadata": {
    "tags": []
   },
   "source": [
    "### Here, we only mutate 'C chain' which is our primary protein and save mutated pdb files\n"
   ]
  },
  {
   "cell_type": "code",
   "execution_count": null,
   "id": "c29c0a41",
   "metadata": {
    "tags": []
   },
   "outputs": [],
   "source": [
    "structure = parsePDB(pdb_name)\n",
    "protein = structure.select(\"chain C\")\n",
    "partner = structure.select(\"chain A\").copy()\n",
    "protein = protein.copy()\n",
    "\n",
    "res_nums = protein.getResnums()\n",
    "res_nums = sorted(set(res_nums))\n",
    "res_nums = np.array(res_nums)\n",
    "\n",
    "for i in res_nums:\n",
    "\n",
    "    protein_wh_res_sd = protein.select(\"protein and not (resnum %s and sidechain)\" % str(i))\n",
    "    protein_wh_res_sd = protein_wh_res_sd.copy()\n",
    "    res_id_mut_checker = protein_wh_res_sd.select(\"resnum %s\" % str(i))\n",
    "    res_id_mut_checker = res_id_mut_checker.copy()\n",
    "    for mutation in mutation_list:\n",
    "        if res_id_mut_checker.select(\"calpha\").getResnames() == mutation:\n",
    "            continue\n",
    "        res_id_mut_slc = protein_wh_res_sd.select(\"resnum %s\" % str(i))\n",
    "        res_id_mut_slc = res_id_mut_slc.setResnames(mutation)\n",
    "    \n",
    "        mutated_protein_structure = protein_wh_res_sd.copy()\n",
    "        writePDB(\"protein_res{}_{}_mutated.pdb\".format(str(i), mutation), mutated_protein_structure + partner)"
   ]
  },
  {
   "cell_type": "markdown",
   "id": "f98ab982-0139-4676-b30f-4aeb0ca39aed",
   "metadata": {
    "tags": []
   },
   "source": [
    "### After generating the mutated pdb files, by using VMD we will solvate (put in a water box) and ionize (add salt) to the protein structure\n"
   ]
  },
  {
   "cell_type": "code",
   "execution_count": null,
   "id": "e7326b51-40f0-4282-9354-24139dc1c9ce",
   "metadata": {},
   "outputs": [],
   "source": [
    "!vmd -dispdev text -e autopsf_batch.tcl\n",
    "#if you use Mac and add vmd to PATH by giving it an alias\n",
    "#!startup.command -dispdev text -e autopsf_batch.tcl\n",
    "#alternatively, you can run 'vmd -dispdev text -e autopsf_batch.tcl' in your working directory, by using terminal"
   ]
  },
  {
   "cell_type": "markdown",
   "id": "af74015d-98bb-4069-a29f-29fabe633760",
   "metadata": {
    "tags": []
   },
   "source": [
    "### To give multiple minimizations by using NAMD, we will generate configuration files for each mutation. Each minimization process will be 10,000 steps-long\n"
   ]
  },
  {
   "cell_type": "code",
   "execution_count": null,
   "id": "12b1c727",
   "metadata": {
    "tags": []
   },
   "outputs": [],
   "source": [
    "def config_gen(pdb_name,min_step_count):\n",
    "    file_name_wh_ex = str(os.path.splitext(pdb_name)[0])\n",
    "    structure = parsePDB(str(pdb_name))\n",
    "    f = open(str(file_name_wh_ex)+\"_config.conf\", 'w')\n",
    "    f.write(\"\\n\")\n",
    "    f.write(\"%-10s\\t\\t\\t%-10s\\n\" % (\"structure\",str(file_name_wh_ex)+\".psf\"))\n",
    "    f.write(\"%-10s\\t\\t\\t%-10s\\n\" % (\"coordinates\",str(file_name_wh_ex)+\".pdb\"))\n",
    "    f.write(\"\\n\")\n",
    "    f.write(\"\\n\")\n",
    "    f.write(\"\\n\")\n",
    "    f.write(\"set temperature    310\\n\")\n",
    "    f.write(\"set outputname     %s\\n\" % (str(file_name_wh_ex)))\n",
    "    f.write(\"\\n\")\n",
    "    f.write(\"\\n\")\n",
    "    f.write(\"firsttimestep      0\\n\")\n",
    "    f.write(\"#############################################################\\n\")\n",
    "    f.write(\"## SIMULATION PARAMETERS                                   ##\\n\")\n",
    "    f.write(\"#############################################################\\n\")\n",
    "    f.write(\"# Input\\n\")\n",
    "    f.write(\"paraTypeCharmm      on\\n\")\n",
    "    f.write(\"parameters          par_all36_carb.prm\\n\")\n",
    "    f.write(\"parameters          par_all36_cgenff.prm\\n\")\n",
    "    f.write(\"parameters          par_all36_lipid.prm\\n\")\n",
    "    f.write(\"parameters          par_all36_na.prm\\n\")\n",
    "    f.write(\"parameters          par_all36_prot.prm\\n\")\n",
    "    f.write(\"parameters          toppar_water_ions.str\\n\")\n",
    "    f.write(\"temperature         $temperature\\n\")\n",
    "    f.write(\"\\n\")\n",
    "    f.write(\"\\n\")\n",
    "    f.write(\"# Force-Field Parameters\\n\")\n",
    "    f.write(\"\"\"\n",
    "exclude             scaled1-4\n",
    "1-4scaling          1.0\n",
    "cutoff              12.\n",
    "switching           on\n",
    "switchdist          10.\n",
    "pairlistdist        13.5\n",
    "\"\"\")\n",
    "    f.write(\"\\n\")\n",
    "    f.write(\"\\n\")\n",
    "    f.write(\"\"\"\n",
    "# Integrator Parameters\n",
    "numsteps            1\n",
    "timestep            2.0  ;# 2fs/step\n",
    "rigidBonds          all  ;# needed for 2fs steps\n",
    "nonbondedFreq       1\n",
    "fullElectFrequency  2\n",
    "stepspercycle       10\n",
    "\"\"\")\n",
    "    f.write(\"\\n\")\n",
    "    f.write(\"\\n\")\n",
    "    f.write(\"\"\"\n",
    "# Constant Temperature Control\n",
    "langevin            on  ;# do langevin dynamics\n",
    "langevinDamping     5     ;# damping coefficient (gamma) of 5/ps\n",
    "langevinTemp        $temperature\n",
    "langevinHydrogen    off    ;# don't couple langevin bath to hydrogens\n",
    "\"\"\")\n",
    "    f.write(\"\\n\")\n",
    "    f.write(\"\\n\")\n",
    "\n",
    "    ###################\n",
    "    pdb_atom_coords = structure.getCoords()\n",
    "    xmax = np.max(pdb_atom_coords[:, 0])\n",
    "    ymax = np.max(pdb_atom_coords[:, 1])\n",
    "    zmax = np.max(pdb_atom_coords[:, 2])\n",
    "    xmin = np.min(pdb_atom_coords[:, 0])\n",
    "    ymin = np.min(pdb_atom_coords[:, 1])\n",
    "    zmin = np.min(pdb_atom_coords[:, 2])\n",
    "    cb_vec1 = abs(xmax-xmin)+0.1\n",
    "    cb_vec2 = abs(ymax-ymin)+0.1\n",
    "    cb_vec3 = abs(zmax-zmin)+0.1\n",
    "    cb_vec1_f = \"{0:.1f}\".format(cb_vec1)\n",
    "    cb_vec2_f = \"{0:.1f}\".format(cb_vec2)\n",
    "    cb_vec3_f = \"{0:.1f}\".format(cb_vec3)\n",
    "    co_x = (xmax+xmin)/2\n",
    "    co_y = (ymax+ymin)/2\n",
    "    co_z = (zmax+zmin)/2\n",
    "    co_x_f = \"{0:.1f}\".format(co_x)\n",
    "    co_y_f = \"{0:.1f}\".format(co_y)\n",
    "    co_z_f = \"{0:.1f}\".format(co_z)\n",
    "    ###################\n",
    "\n",
    "    f.write(\"# Periodic Boundary Conditions\\n\")\n",
    "    f.write(\"cellBasisVector1     %s      0.0    0.0\\n\" % cb_vec1_f)\n",
    "    f.write(\"cellBasisVector2     0.0       %s   0.0\\n\" % cb_vec2_f)\n",
    "    f.write(\"cellBasisVector3     0.0       0.0    %s\\n\"% cb_vec3_f)\n",
    "    f.write(\"cellOrigin           %s     %s     %s\\n\" % (co_x_f, co_y_f, co_z_f))\n",
    "    f.write(\"\\n\")\n",
    "    f.write(\"\\n\")\n",
    "    f.write(\"wrapall              on\\n\")\n",
    "    f.write(\"\\n\")\n",
    "    f.write(\"\\n\")\n",
    "    f.write(\"\"\"\n",
    "# PME (for full-system periodic electrostatics)\n",
    "PME                 yes\n",
    "pmeGridSpacing      1.0\n",
    "#PMEGridSizeX        90\n",
    "#PMEGridSizeY       108\n",
    "#PMEGridSizeZ       108\n",
    "\n",
    "\n",
    "# Constant Pressure Control (variable volume)\n",
    "useGroupPressure      yes ;# needed for rigidBonds\n",
    "useFlexibleCell       no\n",
    "useConstantArea       no\n",
    "\n",
    "langevinPiston        yes\n",
    "langevinPistonTarget  1.01325 ;#  in bar -> 1 atm\n",
    "langevinPistonPeriod  100.\n",
    "langevinPistonDecay   50.\n",
    "langevinPistonTemp    $temperature\n",
    "\n",
    "\n",
    "# Output\n",
    "outputName          $outputname\n",
    "dcdfreq             1000\n",
    "DCDfile             $outputname.dcd\n",
    "outputEnergies      1000\n",
    "outputPressure      1000\n",
    "\n",
    "\n",
    "#############################################################\n",
    "## EXTRA PARAMETERS                                        ##\n",
    "#############################################################\n",
    "\n",
    "\n",
    "#############################################################\n",
    "## EXECUTION SCRIPT                                        ##\n",
    "#########################################################\n",
    "\"\"\")\n",
    "    f.write(\"\\n\")\n",
    "    f.write(\"\\n\")\n",
    "    f.write(\"minimize %s\" % (str(min_step_count)))\n",
    "    f.write(\"\\n\")\n",
    "    f.close()\n",
    "\n",
    "    return\n",
    "\n",
    "global step_size\n",
    "step_size = 10000\n",
    "\n",
    "for file in os.listdir('.'):\n",
    "    if fnmatch.fnmatch(file, '*ionized.pdb'):\n",
    "        pdb = file\n",
    "        config_gen(str(pdb),str(step_size))\n"
   ]
  },
  {
   "cell_type": "markdown",
   "id": "12af3e20-d860-4c7f-a532-e62644c8b8d0",
   "metadata": {
    "tags": []
   },
   "source": [
    "### We will compile multiple configuration files into one bash job file to give batch minimization runs\n"
   ]
  },
  {
   "cell_type": "code",
   "execution_count": null,
   "id": "07186c5b",
   "metadata": {},
   "outputs": [],
   "source": [
    "f = open(\"config_joblist\", 'w')\n",
    "\n",
    "f.write(\"#!/bin/bash\\n\")\n",
    "f.write(\"echo config jobs started\\n\")\n",
    "file_names_sorted = []\n",
    "for file in os.listdir('.'):\n",
    "    if fnmatch.fnmatch(file, '*_config.conf'):\n",
    "        file_name_wh_ex = str(os.path.splitext(file)[0])\n",
    "        file_names_sorted.append(file_name_wh_ex)\n",
    "        file_names_sorted = sorted(file_names_sorted, key=str.lower)\n",
    "\n",
    "range_list = len(file_names_sorted)\n",
    "\n",
    "for i in range(range_list):\n",
    "    conffile = str(file_names_sorted[i] +\".conf\")\n",
    "    logfile = str(file_names_sorted[i] +\".log\")\n",
    "    f.write(\"namd2 +p64 %s > %s\\n\" % (str(conffile), str(logfile)))\n",
    "    f.write(\"echo job for %s is finished\\n\" % str(conffile))\n",
    "\n",
    "f.write(\" echo all jobs are finished\")\n",
    "f.close()\n"
   ]
  },
  {
   "cell_type": "markdown",
   "id": "c14f9237-c39a-4ec7-8266-f6310a14c9f8",
   "metadata": {
    "tags": []
   },
   "source": [
    "### Finally, we will extract minimized mutated conformation from the trajectory files\n"
   ]
  },
  {
   "cell_type": "code",
   "execution_count": null,
   "id": "f748fcec",
   "metadata": {
    "tags": []
   },
   "outputs": [],
   "source": [
    "def lf_extract(pdb_name):\n",
    "    file_name_wh_ex = str(os.path.splitext(pdb_name)[0])\n",
    "    structure = parsePDB(str(pdb_name))\n",
    "    traj = Trajectory(str(file_name_wh_ex)+\".dcd\")\n",
    "    traj.link(structure)\n",
    "    last_frame = traj[-1]\n",
    "    last_frame = last_frame.getAtoms()\n",
    "    last_frame = last_frame.select(\"protein\")\n",
    "    writePDB(str(file_name_wh_ex)+\"_lf_full.pdb\", last_frame)\n",
    "    return\n",
    "\n",
    "for file in os.listdir('.'):\n",
    "    if fnmatch.fnmatch(file, 'protein*mutated_autopsf_wb_ionized.pdb'):\n",
    "        pdb = file\n",
    "        lf_extract(str(pdb))"
   ]
  }
 ],
 "metadata": {
  "kernelspec": {
   "display_name": "Python 3 (ipykernel)",
   "language": "python",
   "name": "python3"
  },
  "language_info": {
   "codemirror_mode": {
    "name": "ipython",
    "version": 3
   },
   "file_extension": ".py",
   "mimetype": "text/x-python",
   "name": "python",
   "nbconvert_exporter": "python",
   "pygments_lexer": "ipython3",
   "version": "3.10.9"
  }
 },
 "nbformat": 4,
 "nbformat_minor": 5
}
